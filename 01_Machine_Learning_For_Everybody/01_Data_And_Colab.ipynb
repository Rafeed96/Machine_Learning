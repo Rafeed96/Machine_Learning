{
  "nbformat": 4,
  "nbformat_minor": 0,
  "metadata": {
    "colab": {
      "provenance": [],
      "authorship_tag": "ABX9TyPa0BzLYT3HNjvXtE0QbOl+",
      "include_colab_link": true
    },
    "kernelspec": {
      "name": "python3",
      "display_name": "Python 3"
    },
    "language_info": {
      "name": "python"
    }
  },
  "cells": [
    {
      "cell_type": "markdown",
      "metadata": {
        "id": "view-in-github",
        "colab_type": "text"
      },
      "source": [
        "<a href=\"https://colab.research.google.com/github/Rafeed96/Machine_Learning/blob/main/01_Machine_Learning_For_Everybody/01_Data_And_Colab.ipynb\" target=\"_parent\"><img src=\"https://colab.research.google.com/assets/colab-badge.svg\" alt=\"Open In Colab\"/></a>"
      ]
    },
    {
      "cell_type": "code",
      "execution_count": 1,
      "metadata": {
        "id": "OdwR0tHtd7p_"
      },
      "outputs": [],
      "source": [
        "# Import modules\n",
        "import numpy as np\n",
        "import pandas as pd\n",
        "import matplotlib.pyplot as plt"
      ]
    },
    {
      "cell_type": "markdown",
      "source": [
        "Datates:\n",
        "download datasets from url:\"https://archive.ics.uci.edu/dataset/159/magic+gamma+telescope\"\n",
        "or obtain dataset from github repository datasets folder under the name \"magic04.data\"\n",
        "\n"
      ],
      "metadata": {
        "id": "qDwZrDL-hOu6"
      }
    },
    {
      "cell_type": "code",
      "source": [],
      "metadata": {
        "id": "L9V6H_lahqS4"
      },
      "execution_count": null,
      "outputs": []
    }
  ]
}